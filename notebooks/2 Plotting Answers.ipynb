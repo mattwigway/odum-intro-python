{
 "cells": [
  {
   "cell_type": "markdown",
   "id": "e1a3bae8-c8ce-43b7-a250-aa4669fc81a5",
   "metadata": {},
   "source": [
    "# Plotting\n",
    "\n",
    "Plots and visualizations are an important part of most scientific publications, and Python has several libraries for producing high-quality plots. The most common is `matplotlib`, which we will demonstrate here. We will again be using the San Francisco parking data. In this exercise, we'll cover making line, bar, and scatter plots; changing labels, colors, and legends; and exporting plots to image or vector files for inclusion in publications."
   ]
  },
  {
   "cell_type": "markdown",
   "id": "881b3ec7-0656-4e41-a86d-01c45e7da30e",
   "metadata": {},
   "source": [
    "## Setup and loading libraries\n",
    "\n",
    "We will once again load `pandas`, and will also load `matplotlib`. The most common interface to `matplotlib` is in the `matplotlib.pyplot` package; this provides an interface where you can build up a plot sequentially using a series of commands. By convention and to save typing, we import `matplotlib.pyplot` as `plt`.\n",
    "\n",
    "The first line is not necessary, but will make plots appear sharper if you have a retina or 4K display."
   ]
  },
  {
   "cell_type": "code",
   "execution_count": null,
   "id": "3aac749c-1d4c-4d6e-9375-8bb382300725",
   "metadata": {},
   "outputs": [],
   "source": [
    "%config InlineBackend.figure_format = \"retina\"\n",
    "\n",
    "import pandas as pd\n",
    "import matplotlib.pyplot as plt"
   ]
  },
  {
   "cell_type": "markdown",
   "id": "59a0c978-ccdc-452c-9dff-da5837fb96e2",
   "metadata": {},
   "source": [
    "## Load data\n",
    "\n",
    "We are once again going to load the parking data."
   ]
  },
  {
   "cell_type": "code",
   "execution_count": null,
   "id": "848e6fc1-778e-482f-98d6-68582ec3e26a",
   "metadata": {},
   "outputs": [],
   "source": [
    "data = pd.read_csv(\"../data/sfpark.csv\")"
   ]
  },
  {
   "cell_type": "markdown",
   "id": "169b3203-d1ff-4ff4-ba09-3e5c73355e54",
   "metadata": {},
   "source": [
    "## A first plot\n",
    "\n",
    "Let's just make a scatter plot of entries vs. exits. Since most people don't leave their cars overnight, these should be relatively closely correlated, and the scatter plot should be close to a straight 45 degree line.\n",
    "\n",
    "We will use the `plt.scatter` function to create a scatterplot. This accepts two arrays as arguments, the x axis and the y axis, in that order. We're using the entries and exits column from the data frame."
   ]
  },
  {
   "cell_type": "code",
   "execution_count": null,
   "id": "5c44e77a-69bf-4afe-9377-e8c77b4c2668",
   "metadata": {},
   "outputs": [],
   "source": [
    "plt.scatter(data.entries, data.exits)"
   ]
  },
  {
   "cell_type": "markdown",
   "id": "bb4cff03-0987-4984-b87a-916401416515",
   "metadata": {},
   "source": [
    "## Adding axis labels and making the points smaller\n",
    "\n",
    "The points are too big to really see the trend, and the axes are currently unlabeled."
   ]
  },
  {
   "cell_type": "code",
   "execution_count": null,
   "id": "98b8fc74-a08b-4535-832d-0cd225e29f33",
   "metadata": {},
   "outputs": [],
   "source": [
    "plt.scatter(data.entries, data.exits, s=0.1)\n",
    "plt.xlabel(\"Entries\")\n",
    "plt.ylabel(\"Exits\")"
   ]
  },
  {
   "cell_type": "markdown",
   "id": "652cc75b-49a6-4f1f-961f-77af5f181372",
   "metadata": {},
   "source": [
    "## Other types of plots\n",
    "\n",
    "Let's make a line plot of total entries by day. To do this, you will first need to create a dataset with a single total number of entries for each day. You should also convert the dates to the datetime data type from objects, because otherwise the x axis will be out of order (it will be ordered alphabetically, and 10/1/2012 comes before 2/1/2012 alphabetically). Create a dataset with a date column and an entries column that is the sum of all entries on that date."
   ]
  },
  {
   "cell_type": "code",
   "execution_count": null,
   "id": "5dde766a-4552-48a4-b9f0-635979c36426",
   "metadata": {},
   "outputs": [],
   "source": [
    "data[\"date\"] = pd.to_datetime(data.date, format=\"%m/%d/%Y\")\n",
    "by_date = data.groupby(\"date\").entries.sum().reset_index()"
   ]
  },
  {
   "cell_type": "markdown",
   "id": "45736e62-8bae-42d2-8e0f-e1d026e79281",
   "metadata": {},
   "source": [
    "## Now, we can create the line plot"
   ]
  },
  {
   "cell_type": "code",
   "execution_count": null,
   "id": "60055882-7641-423e-bbe8-701ccce7e39a",
   "metadata": {},
   "outputs": [],
   "source": [
    "plt.plot(by_date.date, by_date.entries)"
   ]
  },
  {
   "cell_type": "markdown",
   "id": "2e05c243-5a69-4d41-aecb-3e23e61a6b9c",
   "metadata": {},
   "source": [
    "## Grouping by month\n",
    "\n",
    "That's pretty chaotic. Instead of grouping by date, we can resample this data to the monthly level. To do this, we first need to index the by_date data frame by month, then use the resample function. The resample function is basically a time-based group by. We are resampling to the first of each month, and summing monthly entries."
   ]
  },
  {
   "cell_type": "code",
   "execution_count": null,
   "id": "76e37fa7-9f08-492e-b4a0-809b5812e1e9",
   "metadata": {},
   "outputs": [],
   "source": [
    "by_date = by_date.set_index(\"date\")"
   ]
  },
  {
   "cell_type": "code",
   "execution_count": null,
   "id": "23c6e280-030b-4d06-afb7-4d9d681eca1a",
   "metadata": {},
   "outputs": [],
   "source": [
    "by_month = by_date.entries.resample(\"MS\").sum()\n",
    "by_month"
   ]
  },
  {
   "cell_type": "markdown",
   "id": "4320d2a9-b246-48e5-beb7-b10537f85fb2",
   "metadata": {},
   "source": [
    "## Using series directly\n",
    "\n",
    "In the past, after a groupby, we've used `.reset_index()` to convert the series back to a data frame with columns for the grouping variables. However, we don't have to do this, we can use the series directly. To plot it, we can use the index as the x axis and the raw values as the y axis. We do this by plotting `<series>.index` on the x axis, and just the series by itself on the y axis."
   ]
  },
  {
   "cell_type": "code",
   "execution_count": null,
   "id": "497262b3-7c66-4933-aa87-5cc72df7675f",
   "metadata": {},
   "outputs": [],
   "source": [
    "plt.plot(by_month.index, by_month)"
   ]
  },
  {
   "cell_type": "markdown",
   "id": "60181ba0-b5a2-4543-8bcb-964594efa4ee",
   "metadata": {},
   "source": [
    "### Exercise\n",
    "\n",
    "Add axis labels."
   ]
  },
  {
   "cell_type": "code",
   "execution_count": null,
   "id": "79d66960-18b1-4075-a40f-5e502052b771",
   "metadata": {},
   "outputs": [],
   "source": [
    "plt.plot(by_month.index, by_month)\n",
    "plt.xlabel(\"Month\")\n",
    "plt.ylabel(\"Total entries\")"
   ]
  },
  {
   "cell_type": "markdown",
   "id": "ca62b084-0639-4700-8c45-04ec59dd9f0a",
   "metadata": {},
   "source": [
    "### Resizing the plot\n",
    "\n",
    "The month labels overlap each other, let's make the plot larger. We do this with the `plt.figsize` function. This function must be called before any other plotting functions, as it initializes a new plot. Does this plot give any indication of which months are outliers, and why?"
   ]
  },
  {
   "cell_type": "code",
   "execution_count": null,
   "id": "2e421965-cb87-46b4-b4a4-612b296623c8",
   "metadata": {},
   "outputs": [],
   "source": [
    "plt.figure(figsize=(12,8))\n",
    "plt.plot(by_month.index, by_month)\n",
    "plt.xlabel(\"Month\")\n",
    "plt.ylabel(\"Total entries\")"
   ]
  },
  {
   "cell_type": "markdown",
   "id": "d64b52d7-9054-45b9-bbf7-f032047cac96",
   "metadata": {},
   "source": [
    "## Bar plots\n",
    "\n",
    "Another common plot type is the bar plot, used for unordered data. Let's make a bar plot of the entries by garage, to show how popular the different garages are.\n",
    "\n",
    "### Exercise\n",
    "\n",
    "First, calculate the total number of entries by garage."
   ]
  },
  {
   "cell_type": "code",
   "execution_count": null,
   "id": "ac7d4700-c758-44df-b121-98a0c9c011f9",
   "metadata": {},
   "outputs": [],
   "source": [
    "by_garage = data.groupby(\"facility\").entries.sum()"
   ]
  },
  {
   "cell_type": "markdown",
   "id": "a8664c22-bae1-47a7-8cff-6d20943d0ea2",
   "metadata": {},
   "source": [
    "### Make the bar plot\n",
    "\n",
    "I am using the `plt.barh` function here for a <u>h</u>orizontal bar plot, so the labels are legible. `plt.bar` would produce a vertical bar plot."
   ]
  },
  {
   "cell_type": "code",
   "execution_count": null,
   "id": "58d33895-5760-4e53-9e3c-bfa15e753d7d",
   "metadata": {},
   "outputs": [],
   "source": [
    "plt.barh(by_garage.index, by_garage)\n",
    "plt.xlabel(\"Total entries\")"
   ]
  },
  {
   "cell_type": "markdown",
   "id": "e680529d-2217-44b9-8bb5-71895b2cb53a",
   "metadata": {},
   "source": [
    "### Changing colors\n",
    "\n",
    "Most `plt.` functions take an argument `color=` to control the color. There are a number of different ways to specify colors, including color names and RGB or hex specifications; [details can be found here](https://matplotlib.org/stable/tutorials/colors/colors.html)."
   ]
  },
  {
   "cell_type": "code",
   "execution_count": null,
   "id": "0af5d6d7-45a1-4032-9da9-1b87c23581b1",
   "metadata": {},
   "outputs": [],
   "source": [
    "plt.barh(by_garage.index, by_garage, color=\"green\")\n",
    "plt.xlabel(\"Total entries\")"
   ]
  },
  {
   "cell_type": "markdown",
   "id": "f3756385-fb99-40e9-bfb8-f4e7198f10ea",
   "metadata": {},
   "source": [
    "## Multiple plots on the same axes\n",
    "\n",
    "It might be that not all the garages have the same seasonal pattern shown above. Downtown shopping is probably driving the spikes in demand during December. Let's try plotting downtown and the rest of the city separately."
   ]
  },
  {
   "cell_type": "code",
   "execution_count": null,
   "id": "0540fa99-bf80-46f5-8274-97798982d6c9",
   "metadata": {},
   "outputs": [],
   "source": [
    "downtown_data = data[data.district == \"Downtown\"]\n",
    "downtown_by_date = downtown_data.groupby(\"date\").entries.sum()\n",
    "downtown_by_month = downtown_by_date.resample(\"MS\").sum()\n",
    "\n",
    "outside_downtown_data = data[data.district != \"Downtown\"]\n",
    "outside_downtown_by_date = outside_downtown_data.groupby(\"date\").entries.sum()\n",
    "outside_downtown_by_month = outside_downtown_by_date.resample(\"MS\").sum()"
   ]
  },
  {
   "cell_type": "code",
   "execution_count": null,
   "id": "65036406-8ca0-4229-99fe-20aeed0da952",
   "metadata": {},
   "outputs": [],
   "source": [
    "plt.plot(downtown_by_month.index, downtown_by_month)\n",
    "plt.plot(outside_downtown_by_month.index, outside_downtown_by_month)"
   ]
  },
  {
   "cell_type": "markdown",
   "id": "1e89a239-0d09-4c68-8fb0-54be6d98379a",
   "metadata": {},
   "source": [
    "### Legends\n",
    "\n",
    "This plot would be more useful if we had a legend so we knew which line was which. We can include a legend using `plt.legend`, and by specifying labels in the `plt.plot` lines. `plt.legend` will do its best to place the legend to avoid your data, but you can also specify a location with the `loc` argument."
   ]
  },
  {
   "cell_type": "code",
   "execution_count": null,
   "id": "1869475f-9c19-43ab-8cc5-561e929489c0",
   "metadata": {},
   "outputs": [],
   "source": [
    "plt.plot(downtown_by_month.index, downtown_by_month, label=\"Downtown\")\n",
    "plt.plot(outside_downtown_by_month.index, outside_downtown_by_month, label=\"Elsewhere\")\n",
    "plt.legend()"
   ]
  },
  {
   "cell_type": "markdown",
   "id": "e882bc55-8780-4b92-b19b-af7ae6c6179f",
   "metadata": {},
   "source": [
    "## Subplots\n",
    "\n",
    "Frequently, it is useful to have multiple plots together. `plt.subplot` can be used to achieve this. `plt.subplot` takes three arguments: the number of rows and columns of plots, and which position you want to plot into next. The positions are numbered left to right and top to bottom - in a 2x2 grid, for example, the positions are:\n",
    "\n",
    "```\n",
    "1 2\n",
    "3 4\n",
    "```\n",
    "\n",
    "It is also possible to not have all the plots be the same size, by plotting a single plot into multiple locations. This is done by specifying a range of positions to plot into (see the third plot below).\n",
    "\n",
    "Let's put three of our plots together: the scatter chart in the top left, the line plot of all garages in the top right, and the bar plot across the bottom.\n",
    "\n",
    "The last line calls the `plt.tight_layout` function, which adjust plot spacing to account for the size of the labels."
   ]
  },
  {
   "cell_type": "code",
   "execution_count": null,
   "id": "1cb1161f-0eaf-4750-acf0-65cddf1b0b27",
   "metadata": {},
   "outputs": [],
   "source": [
    "# start by making the figure larger, to fit all of the subplots\n",
    "plt.figure(figsize=(12, 8))\n",
    "\n",
    "# First, top left\n",
    "plt.subplot(2, 2, 1)\n",
    "plt.scatter(data.entries, data.exits, s=0.1)\n",
    "plt.xlabel(\"Entries\")\n",
    "plt.ylabel(\"Exits\")\n",
    "plt.title(\"Entries vs. exits\")\n",
    "\n",
    "# top right\n",
    "plt.subplot(2, 2, 2)\n",
    "plt.plot(by_month.index, by_month)\n",
    "plt.ylabel(\"Entries\")\n",
    "plt.xlabel(\"Month\")\n",
    "\n",
    "# across the bottom, fill in spaces 3-4\n",
    "plt.subplot(2, 2, (3, 4))\n",
    "plt.barh(by_garage.index, by_garage)\n",
    "plt.xlabel(\"Total entries\")\n",
    "\n",
    "plt.tight_layout()"
   ]
  },
  {
   "cell_type": "markdown",
   "id": "1e1eaec0-c05e-4235-a267-c3bf9729d534",
   "metadata": {},
   "source": [
    "## Saving figures\n",
    "\n",
    "The `plt.savefig` function can be used to save figures to files. It will determine the file type based on the file extension. I recommend saving `.png` files for raster (pixel-based) graphics, and `.svg` files for vector graphics.\n",
    "\n",
    "For raster graphics, you can also specify a dpi= argument to savefig, which controls the resolution of the output in dots per inch. For publication, values of at least 300 are recommended to avoid graininess."
   ]
  },
  {
   "cell_type": "code",
   "execution_count": null,
   "id": "956c2f51-4801-454e-9d55-31f9ffc8e6bd",
   "metadata": {},
   "outputs": [],
   "source": [
    "# start by making the figure larger, to fit all of the subplots\n",
    "plt.figure(figsize=(12, 8))\n",
    "\n",
    "# First, top left\n",
    "plt.subplot(2, 2, 1)\n",
    "plt.scatter(data.entries, data.exits, s=0.1)\n",
    "plt.xlabel(\"Entries\")\n",
    "plt.ylabel(\"Exits\")\n",
    "plt.title(\"Entries vs. exits\")\n",
    "\n",
    "# top right\n",
    "plt.subplot(2, 2, 2)\n",
    "plt.plot(by_month.index, by_month)\n",
    "plt.ylabel(\"Entries\")\n",
    "plt.xlabel(\"Month\")\n",
    "\n",
    "# across the bottom, fill in spaces 3-4\n",
    "plt.subplot(2, 2, (3, 4))\n",
    "plt.barh(by_garage.index, by_garage)\n",
    "plt.xlabel(\"Total entries\")\n",
    "\n",
    "plt.tight_layout()\n",
    "\n",
    "plt.savefig(\"all_plots.png\", dpi=300)\n",
    "plt.savefig(\"all_plots.svg\")"
   ]
  },
  {
   "cell_type": "code",
   "execution_count": null,
   "id": "216faa4f-f55a-4e07-b4eb-9213eed9a602",
   "metadata": {},
   "outputs": [],
   "source": []
  }
 ],
 "metadata": {
  "kernelspec": {
   "display_name": "Python 3 (ipykernel)",
   "language": "python",
   "name": "python3"
  },
  "language_info": {
   "codemirror_mode": {
    "name": "ipython",
    "version": 3
   },
   "file_extension": ".py",
   "mimetype": "text/x-python",
   "name": "python",
   "nbconvert_exporter": "python",
   "pygments_lexer": "ipython3",
   "version": "3.9.12"
  }
 },
 "nbformat": 4,
 "nbformat_minor": 5
}
