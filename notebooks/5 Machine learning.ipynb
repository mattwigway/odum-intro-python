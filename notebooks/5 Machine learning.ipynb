{
 "cells": [
  {
   "cell_type": "markdown",
   "id": "17c099c9-c5c4-4ccf-ad06-4ed75ff4b786",
   "metadata": {},
   "source": [
    "# Machine learning\n",
    "\n",
    "Python is the _de facto_ standard for machine learning, and many common machine learning algorithms are available through the `scikit-learn` package. While a full introduction to machine learning is beyond the scope of this course, in this notebook we will estimate a boosting model using the same data we used in the parametric statistics notebook.\n",
    "\n",
    "## Import libraries\n",
    "\n",
    "As always, we need to import `pandas`. Scikit-learn is a huge package, so it is typical to only import the parts you need. Here, we will import `GradientBoostingRegressor` for doing regression, and the `cross_val_score` function for performing cross-validation."
   ]
  },
  {
   "cell_type": "code",
   "execution_count": null,
   "id": "65d63e56-ad1c-4f2d-a8a8-5b51ca7fd8d8",
   "metadata": {},
   "outputs": [],
   "source": [
    "import pandas as pd\n",
    "from sklearn.ensemble import GradientBoostingRegressor\n",
    "from sklearn.model_selection import cross_val_score"
   ]
  },
  {
   "cell_type": "markdown",
   "id": "cd6cf4a5-70ad-4b8a-a7fc-634f5cc7ebee",
   "metadata": {},
   "source": [
    "### Read data "
   ]
  },
  {
   "cell_type": "code",
   "execution_count": null,
   "id": "bd3d4eee-e07c-4d1c-973a-123cc245b488",
   "metadata": {},
   "outputs": [],
   "source": [
    "data = pd.read_excel(\"../data/recent_sfh_sales.xlsx\")"
   ]
  },
  {
   "cell_type": "markdown",
   "id": "0d05aafe-e265-4ea8-ae0e-ed680acbbdef",
   "metadata": {},
   "source": [
    "### Exercise\n",
    "\n",
    "Create the water, gas, and sewer dummies we used before, fill in the city field for properties in unincorporated areas, and create a reg_data data frame with all properties that sold for more than $15,000, including the following columns:\n",
    "\n",
    "- Total_sale_Price\n",
    "- Year_Built\n",
    "- Deeded_Acreage\n",
    "- HEATED_AREA\n",
    "- CITY\n",
    "- water\n",
    "- gas\n",
    "- sewer\n",
    "\n",
    "Create dummy variables for cities. There is no need to drop a base category."
   ]
  },
  {
   "cell_type": "code",
   "execution_count": null,
   "id": "ca997360-fb46-4205-b60d-30cab455c1ef",
   "metadata": {},
   "outputs": [],
   "source": []
  },
  {
   "cell_type": "markdown",
   "id": "17bc3242-9c30-40ec-8a61-4d86e097ad4d",
   "metadata": {},
   "source": [
    "## Building the boosting model\n",
    "\n",
    "Building the model in `scikit-learn` is pretty similar to statsmodels. We create a model object, and then \"fit\" it. The main difference is that the data used in the model is passed in in the \"fit\" rather than when the model is created.\n",
    "\n",
    "Machine learning requires extra care to make sure that the model doesn't just learn your specific dataset, without finding any generalizable patterns. One common approach is \"cross-validation\", where the data is split into multiple parts, and the model is repeatedly fit on all except one part and predictions are evaluated on the left out part. This provides an estimate of how well the model will perform on new data. `sklearn` provides built in cross validation functionality.\n",
    "\n",
    "When constructing the model, there are many options you can use to control how the algorithm functions; these will vary depending on which machine learning algorithm you're using."
   ]
  },
  {
   "cell_type": "code",
   "execution_count": null,
   "id": "bbe06611-8679-459d-9748-9bb42879923a",
   "metadata": {},
   "outputs": [],
   "source": [
    "mod = GradientBoostingRegressor(n_estimators=50)"
   ]
  },
  {
   "cell_type": "markdown",
   "id": "760e9aef-ab82-4bc5-b2f8-ff4fdefa326c",
   "metadata": {},
   "source": [
    "### Cross validating the model\n",
    "\n",
    "The `cross_val_score` method will return an array of \"scores\" (measures of model performance) from fitting the model multiple times on different subsets of the data.\n",
    "\n",
    "Note that unlike `statsmodels`, `sklearn` convention is for the independent variables to come first in the function call, before the dependent variable.\n",
    "\n",
    "`cross_val_score` uses whatever the `.score` function of the `sklearn` model you're using returns by default. For a gradient-boosted regressor, this is the R-squared."
   ]
  },
  {
   "cell_type": "code",
   "execution_count": null,
   "id": "bab8c1a1-7e0a-4908-9087-1671fa9c2431",
   "metadata": {},
   "outputs": [],
   "source": [
    "scores = cross_val_score(mod, reg_data.drop(columns=\"Total_sale_Price\"), reg_data.Total_sale_Price, cv=5)\n",
    "scores"
   ]
  },
  {
   "cell_type": "markdown",
   "id": "5fce71be-1010-4624-bfd7-33282f1ffd6b",
   "metadata": {},
   "source": [
    "It is common to take the mean of cross validation scores as a measure of predictive power."
   ]
  },
  {
   "cell_type": "code",
   "execution_count": null,
   "id": "25e21ff7-3680-45a0-972b-ccf65a087191",
   "metadata": {},
   "outputs": [],
   "source": [
    "scores.mean()"
   ]
  },
  {
   "cell_type": "markdown",
   "id": "79fcbb92-5124-4b17-adee-63bd364adb34",
   "metadata": {},
   "source": [
    "The R-squared is 0.57, marginally better than the linear regression estimated previously. Once a model is cross-validated, it is common to move on to fitting on the entire dataset.\n",
    "\n",
    "Here we fit the model and run its `score` function with the original data, to see how well it performs on the original dataset. This isn't a metric you should use for evaluating the quality of the model, but if it's much higher than the cross-validated scores it probably indicates overfitting."
   ]
  },
  {
   "cell_type": "code",
   "execution_count": null,
   "id": "6234b512-c2dd-43a4-89be-8f36a5c0ac79",
   "metadata": {},
   "outputs": [],
   "source": [
    "mod = GradientBoostingRegressor(n_estimators=50)\n",
    "mod.fit(reg_data.drop(columns=\"Total_sale_Price\"), reg_data.Total_sale_Price)\n",
    "mod.score(reg_data.drop(columns=\"Total_sale_Price\"), reg_data.Total_sale_Price)"
   ]
  },
  {
   "cell_type": "markdown",
   "id": "76d49e4a-10b9-4dec-92a0-1c771fadaaab",
   "metadata": {},
   "source": [
    "### Prediction\n",
    "\n",
    "Machine learning is generally used for prediction; there aren't coefficients to easily interpret like there are in regression. For instance, a real estate developer might use a model like this one to to forecast the sale price of homes in two potential developments. Here, we create a new data frame that has the same columns as `reg_data`, and two rows - one for a 2000 square foot urban home in Raleigh, with all utilities, and one for a large 2700 square foot home with only electric service in Zebulon. Here we are creating a data frame manually, but for a larger data set you might want to create the data in Excel and read it with `pd.read_excel`."
   ]
  },
  {
   "cell_type": "code",
   "execution_count": null,
   "id": "c0aa69b4-fdf0-400c-b799-e84f62a164aa",
   "metadata": {},
   "outputs": [],
   "source": [
    "pred_data = pd.DataFrame([\n",
    "    {\"Year_Built\": 2022, \"Deeded_Acreage\": 0.2, \"HEATED_AREA\": 2000, \"CITY\": \"RAL\", \"water\": True,\n",
    "         \"sewer\": True, \"gas\": True},\n",
    "    {\"Year_Built\": 2022, \"Deeded_Acreage\": 3.0, \"HEATED_AREA\": 2700, \"CITY\": \"ZEB\", \"water\": False,\n",
    "         \"sewer\": False, \"gas\": False}\n",
    "])\n",
    "\n",
    "# because we don't have every city in our prediction dataset, we convert CITY to a categorical variable and\n",
    "# set the categories to be all the cities, so that we get dummies for every city.\n",
    "pred_data[\"CITY\"] = pred_data.CITY.astype(\"category\").cat.set_categories(data.CITY.unique())\n",
    "\n",
    "# scikit-learn expects columns to be in the same order when predicting as when fitting.\n",
    "# selecting using the original column names gets them in this order\n",
    "pred_data = pd.get_dummies(pred_data, columns=[\"CITY\"])[reg_data.drop(columns=\"Total_sale_Price\").columns]"
   ]
  },
  {
   "cell_type": "code",
   "execution_count": null,
   "id": "bbeee2d6-a180-411a-9d9e-6b514186f64e",
   "metadata": {},
   "outputs": [],
   "source": [
    "mod.predict(pred_data)"
   ]
  },
  {
   "cell_type": "code",
   "execution_count": null,
   "id": "70f804e1-09f1-4a82-bc57-9addd9127480",
   "metadata": {},
   "outputs": [],
   "source": []
  }
 ],
 "metadata": {
  "kernelspec": {
   "display_name": "Python 3 (ipykernel)",
   "language": "python",
   "name": "python3"
  },
  "language_info": {
   "codemirror_mode": {
    "name": "ipython",
    "version": 3
   },
   "file_extension": ".py",
   "mimetype": "text/x-python",
   "name": "python",
   "nbconvert_exporter": "python",
   "pygments_lexer": "ipython3",
   "version": "3.9.12"
  }
 },
 "nbformat": 4,
 "nbformat_minor": 5
}
